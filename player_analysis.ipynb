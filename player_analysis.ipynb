{
 "cells": [
  {
   "cell_type": "code",
   "execution_count": 1,
   "metadata": {
    "ExecuteTime": {
     "end_time": "2019-09-05T04:02:32.661016Z",
     "start_time": "2019-09-05T04:02:29.858718Z"
    }
   },
   "outputs": [],
   "source": [
    "import pandas as pd\n",
    "import numpy as np\n",
    "import matplotlib.pyplot as plt\n",
    "import seaborn as sns"
   ]
  },
  {
   "cell_type": "code",
   "execution_count": 2,
   "metadata": {
    "ExecuteTime": {
     "end_time": "2019-09-05T04:02:33.645772Z",
     "start_time": "2019-09-05T04:02:33.640182Z"
    },
    "run_control": {
     "marked": false
    }
   },
   "outputs": [],
   "source": [
    "col_headers = ['name', 'id_player', 'country', 'game_id', 'start', 'time_in',\n",
    "               'time_out']"
   ]
  },
  {
   "cell_type": "code",
   "execution_count": 3,
   "metadata": {
    "ExecuteTime": {
     "end_time": "2019-09-05T04:02:37.431000Z",
     "start_time": "2019-09-05T04:02:37.407721Z"
    }
   },
   "outputs": [],
   "source": [
    "df = pd.read_csv('./world_cup_player_stats.csv', names=col_headers,\n",
    "                 na_values='None')"
   ]
  },
  {
   "cell_type": "code",
   "execution_count": 4,
   "metadata": {
    "ExecuteTime": {
     "end_time": "2019-09-05T04:02:39.361418Z",
     "start_time": "2019-09-05T04:02:39.339675Z"
    },
    "scrolled": true
   },
   "outputs": [
    {
     "data": {
      "text/html": [
       "<div>\n",
       "<style scoped>\n",
       "    .dataframe tbody tr th:only-of-type {\n",
       "        vertical-align: middle;\n",
       "    }\n",
       "\n",
       "    .dataframe tbody tr th {\n",
       "        vertical-align: top;\n",
       "    }\n",
       "\n",
       "    .dataframe thead th {\n",
       "        text-align: right;\n",
       "    }\n",
       "</style>\n",
       "<table border=\"1\" class=\"dataframe\">\n",
       "  <thead>\n",
       "    <tr style=\"text-align: right;\">\n",
       "      <th></th>\n",
       "      <th>name</th>\n",
       "      <th>id_player</th>\n",
       "      <th>country</th>\n",
       "      <th>game_id</th>\n",
       "      <th>start</th>\n",
       "      <th>time_in</th>\n",
       "      <th>time_out</th>\n",
       "    </tr>\n",
       "  </thead>\n",
       "  <tbody>\n",
       "    <tr>\n",
       "      <th>2939</th>\n",
       "      <td>Duje Caleta-Car</td>\n",
       "      <td>372424</td>\n",
       "      <td>Croatia</td>\n",
       "      <td>300331552</td>\n",
       "      <td>False</td>\n",
       "      <td>None</td>\n",
       "      <td>None</td>\n",
       "    </tr>\n",
       "    <tr>\n",
       "      <th>2940</th>\n",
       "      <td>Milan Badelj</td>\n",
       "      <td>357991</td>\n",
       "      <td>Croatia</td>\n",
       "      <td>300331552</td>\n",
       "      <td>False</td>\n",
       "      <td>None</td>\n",
       "      <td>None</td>\n",
       "    </tr>\n",
       "    <tr>\n",
       "      <th>2941</th>\n",
       "      <td>Marko Pjaca</td>\n",
       "      <td>369057</td>\n",
       "      <td>Croatia</td>\n",
       "      <td>300331552</td>\n",
       "      <td>False</td>\n",
       "      <td>81</td>\n",
       "      <td>None</td>\n",
       "    </tr>\n",
       "    <tr>\n",
       "      <th>2942</th>\n",
       "      <td>Josip Pivaric</td>\n",
       "      <td>375261</td>\n",
       "      <td>Croatia</td>\n",
       "      <td>300331552</td>\n",
       "      <td>False</td>\n",
       "      <td>None</td>\n",
       "      <td>None</td>\n",
       "    </tr>\n",
       "    <tr>\n",
       "      <th>2943</th>\n",
       "      <td>Nikola Kalinic</td>\n",
       "      <td>297379</td>\n",
       "      <td>Croatia</td>\n",
       "      <td>300331552</td>\n",
       "      <td>False</td>\n",
       "      <td>None</td>\n",
       "      <td>None</td>\n",
       "    </tr>\n",
       "  </tbody>\n",
       "</table>\n",
       "</div>"
      ],
      "text/plain": [
       "                 name  id_player   country    game_id   start time_in time_out\n",
       "2939  Duje Caleta-Car     372424   Croatia  300331552   False    None     None\n",
       "2940     Milan Badelj     357991   Croatia  300331552   False    None     None\n",
       "2941      Marko Pjaca     369057   Croatia  300331552   False      81     None\n",
       "2942    Josip Pivaric     375261   Croatia  300331552   False    None     None\n",
       "2943   Nikola Kalinic     297379   Croatia  300331552   False    None     None"
      ]
     },
     "execution_count": 4,
     "metadata": {},
     "output_type": "execute_result"
    }
   ],
   "source": [
    "df.tail()"
   ]
  },
  {
   "cell_type": "code",
   "execution_count": 5,
   "metadata": {
    "ExecuteTime": {
     "end_time": "2019-09-05T04:02:47.658313Z",
     "start_time": "2019-09-05T04:02:47.648029Z"
    }
   },
   "outputs": [
    {
     "data": {
      "text/plain": [
       "name         object\n",
       "id_player     int64\n",
       "country      object\n",
       "game_id       int64\n",
       "start        object\n",
       "time_in      object\n",
       "time_out     object\n",
       "dtype: object"
      ]
     },
     "execution_count": 5,
     "metadata": {},
     "output_type": "execute_result"
    }
   ],
   "source": [
    "df.dtypes"
   ]
  },
  {
   "cell_type": "code",
   "execution_count": null,
   "metadata": {},
   "outputs": [],
   "source": []
  },
  {
   "cell_type": "code",
   "execution_count": null,
   "metadata": {},
   "outputs": [],
   "source": []
  },
  {
   "cell_type": "code",
   "execution_count": null,
   "metadata": {},
   "outputs": [],
   "source": []
  },
  {
   "cell_type": "code",
   "execution_count": null,
   "metadata": {},
   "outputs": [],
   "source": []
  },
  {
   "cell_type": "code",
   "execution_count": null,
   "metadata": {},
   "outputs": [],
   "source": []
  },
  {
   "cell_type": "code",
   "execution_count": null,
   "metadata": {},
   "outputs": [],
   "source": []
  },
  {
   "cell_type": "code",
   "execution_count": null,
   "metadata": {},
   "outputs": [],
   "source": []
  },
  {
   "cell_type": "code",
   "execution_count": null,
   "metadata": {
    "ExecuteTime": {
     "end_time": "2019-09-05T02:10:28.386092Z",
     "start_time": "2019-09-05T02:10:28.380580Z"
    }
   },
   "outputs": [],
   "source": [
    "df['time_in'] = df.time_in.apply(lambda x: np.NaN if x == 'None' else x)"
   ]
  },
  {
   "cell_type": "code",
   "execution_count": null,
   "metadata": {
    "ExecuteTime": {
     "end_time": "2019-09-05T02:10:29.901351Z",
     "start_time": "2019-09-05T02:10:29.886056Z"
    }
   },
   "outputs": [],
   "source": [
    "df.info()"
   ]
  },
  {
   "cell_type": "code",
   "execution_count": null,
   "metadata": {
    "ExecuteTime": {
     "end_time": "2019-09-05T02:10:31.643916Z",
     "start_time": "2019-09-05T02:10:31.636167Z"
    }
   },
   "outputs": [],
   "source": [
    "df['time_in'] = df.time_in.str.replace('None', 'bench')"
   ]
  },
  {
   "cell_type": "code",
   "execution_count": null,
   "metadata": {
    "ExecuteTime": {
     "end_time": "2019-09-05T02:10:34.818409Z",
     "start_time": "2019-09-05T02:10:34.809336Z"
    }
   },
   "outputs": [],
   "source": [
    "df['start'] = df.start.astype('bool')"
   ]
  },
  {
   "cell_type": "code",
   "execution_count": null,
   "metadata": {
    "ExecuteTime": {
     "end_time": "2019-09-05T02:11:25.912757Z",
     "start_time": "2019-09-05T02:11:25.905960Z"
    },
    "run_control": {
     "marked": false
    }
   },
   "outputs": [],
   "source": [
    "start_df = df['start'] == True"
   ]
  },
  {
   "cell_type": "code",
   "execution_count": null,
   "metadata": {
    "ExecuteTime": {
     "end_time": "2019-09-05T02:13:05.598283Z",
     "start_time": "2019-09-05T02:13:05.577607Z"
    }
   },
   "outputs": [],
   "source": [
    "start_df.time_out.str.replace('None', 'End-of-game')"
   ]
  },
  {
   "cell_type": "code",
   "execution_count": null,
   "metadata": {
    "ExecuteTime": {
     "end_time": "2019-09-05T02:09:27.089807Z",
     "start_time": "2019-09-05T02:09:27.048195Z"
    }
   },
   "outputs": [],
   "source": [
    "df.tail()"
   ]
  },
  {
   "cell_type": "code",
   "execution_count": null,
   "metadata": {
    "ExecuteTime": {
     "end_time": "2019-09-03T19:06:05.876653Z",
     "start_time": "2019-09-03T19:06:05.836651Z"
    }
   },
   "outputs": [],
   "source": [
    "'''minutes = df['min_played']\n",
    "start = df.start\n",
    "time_in = df.time_in\n",
    "time_out = df.time_out\n",
    "\n",
    "\n",
    "def game_time_played(start, time_in, time_out):\n",
    "    for row in df:\n",
    "        if start is False:\n",
    "            if time_in == 0:\n",
    "                min_played == 0\n",
    "        elif start is False:\n",
    "            if time_out == None:\n",
    "                min_played == 90 - int(time_in)\n",
    "        elif start is True:\n",
    "            if time_out == None:\n",
    "                min_played == 90\n",
    "        else:\n",
    "            min_played == time_out'''"
   ]
  },
  {
   "cell_type": "code",
   "execution_count": null,
   "metadata": {
    "ExecuteTime": {
     "end_time": "2019-09-03T19:06:06.175131Z",
     "start_time": "2019-09-03T19:06:05.898792Z"
    }
   },
   "outputs": [],
   "source": [
    "df['game_time_played'] = game_time_played(start, time_in, time_out)\n",
    "df"
   ]
  },
  {
   "cell_type": "code",
   "execution_count": null,
   "metadata": {
    "ExecuteTime": {
     "end_time": "2019-09-03T19:06:18.517459Z",
     "start_time": "2019-09-03T19:06:18.501029Z"
    }
   },
   "outputs": [],
   "source": [
    "len(start)"
   ]
  },
  {
   "cell_type": "code",
   "execution_count": null,
   "metadata": {
    "ExecuteTime": {
     "end_time": "2019-09-03T19:06:30.113667Z",
     "start_time": "2019-09-03T19:06:30.094702Z"
    }
   },
   "outputs": [],
   "source": [
    "len(time_in)"
   ]
  },
  {
   "cell_type": "code",
   "execution_count": null,
   "metadata": {
    "ExecuteTime": {
     "end_time": "2019-09-03T19:06:32.583166Z",
     "start_time": "2019-09-03T19:06:32.566861Z"
    }
   },
   "outputs": [],
   "source": [
    "len(time_out)"
   ]
  },
  {
   "cell_type": "code",
   "execution_count": null,
   "metadata": {
    "ExecuteTime": {
     "end_time": "2019-09-03T19:06:35.401923Z",
     "start_time": "2019-09-03T19:06:35.385451Z"
    }
   },
   "outputs": [],
   "source": [
    "len(min_played)"
   ]
  },
  {
   "cell_type": "code",
   "execution_count": null,
   "metadata": {
    "ExecuteTime": {
     "end_time": "2019-09-03T19:06:36.661375Z",
     "start_time": "2019-09-03T19:06:36.604897Z"
    }
   },
   "outputs": [],
   "source": [
    "start_df"
   ]
  },
  {
   "cell_type": "code",
   "execution_count": null,
   "metadata": {},
   "outputs": [],
   "source": []
  }
 ],
 "metadata": {
  "kernelspec": {
   "display_name": "Python 3",
   "language": "python",
   "name": "python3"
  },
  "language_info": {
   "codemirror_mode": {
    "name": "ipython",
    "version": 3
   },
   "file_extension": ".py",
   "mimetype": "text/x-python",
   "name": "python",
   "nbconvert_exporter": "python",
   "pygments_lexer": "ipython3",
   "version": "3.7.4"
  },
  "toc": {
   "base_numbering": 1,
   "nav_menu": {},
   "number_sections": true,
   "sideBar": true,
   "skip_h1_title": false,
   "title_cell": "Table of Contents",
   "title_sidebar": "Contents",
   "toc_cell": false,
   "toc_position": {},
   "toc_section_display": true,
   "toc_window_display": false
  },
  "varInspector": {
   "cols": {
    "lenName": 16,
    "lenType": 16,
    "lenVar": 40
   },
   "kernels_config": {
    "python": {
     "delete_cmd_postfix": "",
     "delete_cmd_prefix": "del ",
     "library": "var_list.py",
     "varRefreshCmd": "print(var_dic_list())"
    },
    "r": {
     "delete_cmd_postfix": ") ",
     "delete_cmd_prefix": "rm(",
     "library": "var_list.r",
     "varRefreshCmd": "cat(var_dic_list()) "
    }
   },
   "types_to_exclude": [
    "module",
    "function",
    "builtin_function_or_method",
    "instance",
    "_Feature"
   ],
   "window_display": false
  }
 },
 "nbformat": 4,
 "nbformat_minor": 2
}
